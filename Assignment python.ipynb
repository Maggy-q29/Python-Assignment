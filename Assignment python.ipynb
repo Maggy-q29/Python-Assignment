{
 "cells": [
  {
   "cell_type": "markdown",
   "id": "f8ea3ecf",
   "metadata": {},
   "source": [
    "#### creating a universal set"
   ]
  },
  {
   "cell_type": "code",
   "execution_count": 30,
   "id": "3ae7948b",
   "metadata": {},
   "outputs": [
    {
     "data": {
      "text/plain": [
       "set"
      ]
     },
     "execution_count": 30,
     "metadata": {},
     "output_type": "execute_result"
    }
   ],
   "source": [
    "U={1,2,3,4,5,6,7,8,9,10,11,12}\n",
    "A={2,4,6,8,10}\n",
    "B={3,8,11,12}\n",
    "C={2,3,6,8,9,11}\n",
    "type(B)"
   ]
  },
  {
   "cell_type": "markdown",
   "id": "6c32d2bb",
   "metadata": {},
   "source": [
    " A (cap-intersection) B"
   ]
  },
  {
   "cell_type": "code",
   "execution_count": 31,
   "id": "2a82e207",
   "metadata": {},
   "outputs": [
    {
     "data": {
      "text/plain": [
       "{8}"
      ]
     },
     "execution_count": 31,
     "metadata": {},
     "output_type": "execute_result"
    }
   ],
   "source": [
    "A.intersection(B)"
   ]
  },
  {
   "cell_type": "code",
   "execution_count": 32,
   "id": "42214e25",
   "metadata": {},
   "outputs": [
    {
     "name": "stdout",
     "output_type": "stream",
     "text": [
      "{8}\n"
     ]
    }
   ],
   "source": [
    "ans1= A & B\n",
    "print(ans1)"
   ]
  },
  {
   "cell_type": "code",
   "execution_count": 33,
   "id": "dd7625e0",
   "metadata": {},
   "outputs": [
    {
     "name": "stdout",
     "output_type": "stream",
     "text": [
      "{8}\n"
     ]
    }
   ],
   "source": [
    "intersection = A & B\n",
    "print(intersection)"
   ]
  },
  {
   "cell_type": "markdown",
   "id": "a797a67b",
   "metadata": {},
   "source": [
    "A (cup-Union) C"
   ]
  },
  {
   "cell_type": "code",
   "execution_count": 34,
   "id": "944e1962",
   "metadata": {},
   "outputs": [
    {
     "data": {
      "text/plain": [
       "{2, 3, 4, 6, 8, 9, 10, 11}"
      ]
     },
     "execution_count": 34,
     "metadata": {},
     "output_type": "execute_result"
    }
   ],
   "source": [
    "A.union(C)"
   ]
  },
  {
   "cell_type": "code",
   "execution_count": 35,
   "id": "fa77a23d",
   "metadata": {},
   "outputs": [
    {
     "name": "stdout",
     "output_type": "stream",
     "text": [
      "{2, 3, 4, 6, 8, 9, 10, 11}\n"
     ]
    }
   ],
   "source": [
    "ans2= A|C\n",
    "print(ans2)"
   ]
  },
  {
   "cell_type": "code",
   "execution_count": 36,
   "id": "b2f97c8f",
   "metadata": {},
   "outputs": [
    {
     "name": "stdout",
     "output_type": "stream",
     "text": [
      "{2, 3, 4, 6, 8, 9, 10, 11}\n"
     ]
    }
   ],
   "source": [
    "union = A|C\n",
    "print(union)"
   ]
  },
  {
   "cell_type": "markdown",
   "id": "12e851f0",
   "metadata": {},
   "source": [
    "A complement "
   ]
  },
  {
   "cell_type": "code",
   "execution_count": 37,
   "id": "5bd5c3dc",
   "metadata": {},
   "outputs": [
    {
     "name": "stdout",
     "output_type": "stream",
     "text": [
      "{1, 3, 5, 7, 9, 11, 12}\n"
     ]
    }
   ],
   "source": [
    "A_complement = U-A\n",
    "print(A_complement)"
   ]
  },
  {
   "cell_type": "code",
   "execution_count": 38,
   "id": "68ec9aa6",
   "metadata": {},
   "outputs": [
    {
     "name": "stdout",
     "output_type": "stream",
     "text": [
      "{1, 3, 5, 7, 9, 11, 12}\n"
     ]
    }
   ],
   "source": [
    "ans3= U-A\n",
    "print(ans3)"
   ]
  },
  {
   "cell_type": "markdown",
   "id": "8efd7558",
   "metadata": {},
   "source": [
    "absolute complement of B"
   ]
  },
  {
   "cell_type": "code",
   "execution_count": 39,
   "id": "e223b984",
   "metadata": {},
   "outputs": [
    {
     "name": "stdout",
     "output_type": "stream",
     "text": [
      "{1, 2, 4, 5, 6, 7, 9, 10}\n"
     ]
    }
   ],
   "source": [
    "B_complement = U-B\n",
    "print(B_complement)"
   ]
  },
  {
   "cell_type": "code",
   "execution_count": 40,
   "id": "189db920",
   "metadata": {},
   "outputs": [
    {
     "name": "stdout",
     "output_type": "stream",
     "text": [
      "{1, 2, 4, 5, 6, 7, 9, 10}\n"
     ]
    }
   ],
   "source": [
    "ans4= U-B\n",
    "print(ans4)"
   ]
  },
  {
   "cell_type": "markdown",
   "id": "e1f15f77",
   "metadata": {},
   "source": [
    "A UNION B COMPLEMENT"
   ]
  },
  {
   "cell_type": "code",
   "execution_count": 41,
   "id": "7eb646fe",
   "metadata": {},
   "outputs": [
    {
     "name": "stdout",
     "output_type": "stream",
     "text": [
      "{1, 5, 9, 7}\n"
     ]
    }
   ],
   "source": [
    "A_union_B = (A|B)\n",
    "ans5= U-A_union_B\n",
    "print(ans5)"
   ]
  },
  {
   "cell_type": "code",
   "execution_count": 42,
   "id": "fdf343c6",
   "metadata": {},
   "outputs": [
    {
     "name": "stdout",
     "output_type": "stream",
     "text": [
      "{1, 5, 9, 7}\n"
     ]
    }
   ],
   "source": [
    "A_union_B_complement =U-(A|B)\n",
    "print(A_union_B_complement)"
   ]
  },
  {
   "cell_type": "markdown",
   "id": "19cd0134",
   "metadata": {},
   "source": [
    "B intersection C complement\n",
    "we first get the C complement"
   ]
  },
  {
   "cell_type": "code",
   "execution_count": 43,
   "id": "0fe29622",
   "metadata": {},
   "outputs": [
    {
     "name": "stdout",
     "output_type": "stream",
     "text": [
      "{12}\n"
     ]
    }
   ],
   "source": [
    "C_complement= U-C #C -complement\n",
    "ans6= B&C_complement #B intersection C complement\n",
    "print(ans6)"
   ]
  },
  {
   "cell_type": "markdown",
   "id": "d1d69810",
   "metadata": {},
   "source": [
    "- Getting the diffrence A\\B"
   ]
  },
  {
   "cell_type": "code",
   "execution_count": 44,
   "id": "69519b46",
   "metadata": {},
   "outputs": [
    {
     "name": "stdout",
     "output_type": "stream",
     "text": [
      "{2, 10, 4, 6}\n"
     ]
    }
   ],
   "source": [
    "A_minus_B = A-B\n",
    "ans7= A-B\n",
    "print(ans7)"
   ]
  },
  {
   "cell_type": "markdown",
   "id": "eaff309c",
   "metadata": {},
   "source": [
    "- Diffrence C(GET Diffrence in B and A first)"
   ]
  },
  {
   "cell_type": "code",
   "execution_count": 45,
   "id": "1599e6fb",
   "metadata": {},
   "outputs": [
    {
     "name": "stdout",
     "output_type": "stream",
     "text": [
      "{11, 3, 12}\n"
     ]
    }
   ],
   "source": [
    "B_minus_A =B-A #Diffrence B\\A\n",
    "print(B_minus_A)"
   ]
  },
  {
   "cell_type": "code",
   "execution_count": 46,
   "id": "df0e67c8",
   "metadata": {},
   "outputs": [
    {
     "name": "stdout",
     "output_type": "stream",
     "text": [
      "{8, 9, 2, 6}\n"
     ]
    }
   ],
   "source": [
    "result=C-(B-A)\n",
    "ans8= C-(B-A)\n",
    "print(ans8)"
   ]
  },
  {
   "cell_type": "markdown",
   "id": "406d646e",
   "metadata": {},
   "source": []
  },
  {
   "cell_type": "code",
   "execution_count": 47,
   "id": "2df898ee",
   "metadata": {},
   "outputs": [
    {
     "name": "stdout",
     "output_type": "stream",
     "text": [
      "{2, 6, 8, 9}\n"
     ]
    }
   ],
   "source": [
    "C_intersection_A=C.intersection (A) #C intersection A\n",
    "C_minus_B=(C-B) # C minus B\n",
    "ans9=C_intersection_A | C_minus_B\n",
    "print(ans9)"
   ]
  },
  {
   "cell_type": "markdown",
   "id": "714e6d87",
   "metadata": {},
   "source": [
    "INCLUSION -EXCLUSION"
   ]
  },
  {
   "cell_type": "code",
   "execution_count": 48,
   "id": "78b1f641",
   "metadata": {},
   "outputs": [
    {
     "name": "stdout",
     "output_type": "stream",
     "text": [
      "9\n"
     ]
    }
   ],
   "source": [
    "# inclusion - exclusion principle\n",
    "left_hand_eq=len(A.union(B,C))\n",
    "print(left_hand_eq)"
   ]
  },
  {
   "cell_type": "code",
   "execution_count": 49,
   "id": "d55b4674",
   "metadata": {},
   "outputs": [
    {
     "name": "stdout",
     "output_type": "stream",
     "text": [
      "9\n"
     ]
    }
   ],
   "source": [
    "right_hand_eq=len(A)+len(B)+len(C)-len(A&B)-len(A&C)-len(B&C)+len(A&B&C)\n",
    "print(right_hand_eq)"
   ]
  },
  {
   "cell_type": "markdown",
   "id": "94747396",
   "metadata": {},
   "source": [
    "SET OPPERATIONS"
   ]
  },
  {
   "cell_type": "code",
   "execution_count": 50,
   "id": "318497a1",
   "metadata": {},
   "outputs": [],
   "source": [
    "Nina = set([\"Cat\",\"Dog\",\"Rabbit\",\"Donkey\",\"Parrot\", \"Goldfish\"])\n",
    "Mary = set([\"Dog\",\"Chinchilla\",\"Horse\", \"Chicken\"])\n",
    "Eve = set([\"Rabbit\", \"Turtle\", \"Goldfish\"])"
   ]
  },
  {
   "cell_type": "code",
   "execution_count": 51,
   "id": "b216a1bc",
   "metadata": {},
   "outputs": [
    {
     "name": "stdout",
     "output_type": "stream",
     "text": [
      "{'Goldfish', 'Rabbit'}\n"
     ]
    }
   ],
   "source": [
    "Eve = set([\"Rabbit\", \"Turtle\", \"Goldfish\"])\n",
    "Eve.remove(\"Turtle\")\n",
    "print(Eve)\n"
   ]
  },
  {
   "cell_type": "code",
   "execution_count": 52,
   "id": "a15f05d9",
   "metadata": {},
   "outputs": [
    {
     "name": "stdout",
     "output_type": "stream",
     "text": [
      "{'Chicken', 'Horse', 'Dog', 'Cat', 'Rabbit', 'Parrot', 'Goldfish', 'Chinchilla', 'Donkey'}\n"
     ]
    }
   ],
   "source": [
    "Nina.update(Mary)\n",
    "print(Nina)"
   ]
  },
  {
   "cell_type": "code",
   "execution_count": 53,
   "id": "1de97977",
   "metadata": {},
   "outputs": [
    {
     "name": "stdout",
     "output_type": "stream",
     "text": [
      "set()\n"
     ]
    }
   ],
   "source": [
    "Mary.clear()\n",
    "print(Mary)"
   ]
  },
  {
   "cell_type": "code",
   "execution_count": null,
   "id": "ad08caa5",
   "metadata": {},
   "outputs": [
    {
     "name": "stdout",
     "output_type": "stream",
     "text": [
      "{'Goldfish', 'Rabbit'}\n"
     ]
    }
   ],
   "source": [
    "common_species= Nina.intersection(Eve)\n",
    "print(common_species)"
   ]
  },
  {
   "cell_type": "code",
   "execution_count": 58,
   "id": "1ee16995",
   "metadata": {},
   "outputs": [
    {
     "name": "stdout",
     "output_type": "stream",
     "text": [
      "{'Chicken', 'Horse', 'Dog', 'Cat', 'Parrot', 'Chinchilla', 'Donkey'}\n"
     ]
    }
   ],
   "source": [
    "Nina.difference_update(common_species)\n",
    "print(Nina)"
   ]
  },
  {
   "cell_type": "code",
   "execution_count": 60,
   "id": "4195dd8d",
   "metadata": {},
   "outputs": [
    {
     "data": {
      "text/plain": [
       "7"
      ]
     },
     "execution_count": 60,
     "metadata": {},
     "output_type": "execute_result"
    }
   ],
   "source": [
    "len(Nina)"
   ]
  },
  {
   "cell_type": "markdown",
   "id": "9424a9e7",
   "metadata": {},
   "source": [
    "Optional Exercise: European Countries"
   ]
  },
  {
   "cell_type": "code",
   "execution_count": 70,
   "id": "bdcece3e",
   "metadata": {},
   "outputs": [
    {
     "data": {
      "text/html": [
       "<div>\n",
       "<style scoped>\n",
       "    .dataframe tbody tr th:only-of-type {\n",
       "        vertical-align: middle;\n",
       "    }\n",
       "\n",
       "    .dataframe tbody tr th {\n",
       "        vertical-align: top;\n",
       "    }\n",
       "\n",
       "    .dataframe thead th {\n",
       "        text-align: right;\n",
       "    }\n",
       "</style>\n",
       "<table border=\"1\" class=\"dataframe\">\n",
       "  <thead>\n",
       "    <tr style=\"text-align: right;\">\n",
       "      <th></th>\n",
       "      <th>Rank</th>\n",
       "      <th>Country</th>\n",
       "      <th>Population</th>\n",
       "      <th>% of population</th>\n",
       "      <th>Average relative annual growth (%)</th>\n",
       "      <th>Average absolute annual growth</th>\n",
       "      <th>Estimated doubling time (Years)</th>\n",
       "      <th>Official figure (where available)</th>\n",
       "      <th>Date of last figure</th>\n",
       "      <th>Regional grouping</th>\n",
       "      <th>Source</th>\n",
       "    </tr>\n",
       "  </thead>\n",
       "  <tbody>\n",
       "    <tr>\n",
       "      <th>0</th>\n",
       "      <td>1.0</td>\n",
       "      <td>Russia</td>\n",
       "      <td>143964709</td>\n",
       "      <td>17.15</td>\n",
       "      <td>0.19</td>\n",
       "      <td>294285</td>\n",
       "      <td>368</td>\n",
       "      <td>146839993</td>\n",
       "      <td>2017-01-01 00:00:00</td>\n",
       "      <td>EAEU</td>\n",
       "      <td>[1]</td>\n",
       "    </tr>\n",
       "    <tr>\n",
       "      <th>1</th>\n",
       "      <td>2.0</td>\n",
       "      <td>Germany</td>\n",
       "      <td>82521653</td>\n",
       "      <td>9.80</td>\n",
       "      <td>1.20</td>\n",
       "      <td>600000</td>\n",
       "      <td>90</td>\n",
       "      <td>82800000</td>\n",
       "      <td>2016-12-31 00:00:00</td>\n",
       "      <td>EU</td>\n",
       "      <td>Official estimate</td>\n",
       "    </tr>\n",
       "    <tr>\n",
       "      <th>2</th>\n",
       "      <td>3.0</td>\n",
       "      <td>Turkey</td>\n",
       "      <td>80810000</td>\n",
       "      <td>9.60</td>\n",
       "      <td>1.34</td>\n",
       "      <td>1035000</td>\n",
       "      <td>52</td>\n",
       "      <td>77695904</td>\n",
       "      <td>2016-12-31 00:00:00</td>\n",
       "      <td>NaN</td>\n",
       "      <td>[2]</td>\n",
       "    </tr>\n",
       "    <tr>\n",
       "      <th>3</th>\n",
       "      <td>4.0</td>\n",
       "      <td>France</td>\n",
       "      <td>65233271</td>\n",
       "      <td>7.76</td>\n",
       "      <td>0.39</td>\n",
       "      <td>261022</td>\n",
       "      <td>177</td>\n",
       "      <td>66991000</td>\n",
       "      <td>2017-03-01 00:00:00</td>\n",
       "      <td>EU</td>\n",
       "      <td>[3]</td>\n",
       "    </tr>\n",
       "    <tr>\n",
       "      <th>4</th>\n",
       "      <td>5.0</td>\n",
       "      <td>United Kingdom</td>\n",
       "      <td>65110276</td>\n",
       "      <td>7.75</td>\n",
       "      <td>0.75</td>\n",
       "      <td>484000</td>\n",
       "      <td>92</td>\n",
       "      <td>66573504</td>\n",
       "      <td>2016-12-30 00:00:00</td>\n",
       "      <td>EU</td>\n",
       "      <td>Official estimate</td>\n",
       "    </tr>\n",
       "  </tbody>\n",
       "</table>\n",
       "</div>"
      ],
      "text/plain": [
       "   Rank         Country  Population  % of population  \\\n",
       "0   1.0          Russia   143964709            17.15   \n",
       "1   2.0        Germany     82521653             9.80   \n",
       "2   3.0         Turkey     80810000             9.60   \n",
       "3   4.0          France    65233271             7.76   \n",
       "4   5.0  United Kingdom    65110276             7.75   \n",
       "\n",
       "   Average relative annual growth (%)  Average absolute annual growth  \\\n",
       "0                                0.19                          294285   \n",
       "1                                1.20                          600000   \n",
       "2                                1.34                         1035000   \n",
       "3                                0.39                          261022   \n",
       "4                                0.75                          484000   \n",
       "\n",
       "  Estimated doubling time (Years)  Official figure (where available)  \\\n",
       "0                             368                          146839993   \n",
       "1                              90                           82800000   \n",
       "2                              52                           77695904   \n",
       "3                             177                           66991000   \n",
       "4                              92                           66573504   \n",
       "\n",
       "   Date of last figure Regional grouping             Source  \n",
       "0  2017-01-01 00:00:00             EAEU                 [1]  \n",
       "1  2016-12-31 00:00:00               EU   Official estimate  \n",
       "2  2016-12-31 00:00:00               NaN                [2]  \n",
       "3  2017-03-01 00:00:00               EU                 [3]  \n",
       "4  2016-12-30 00:00:00               EU   Official estimate  "
      ]
     },
     "execution_count": 70,
     "metadata": {},
     "output_type": "execute_result"
    }
   ],
   "source": [
    "import pandas as pd \n",
    "df = pd.read_excel(\"Europe_and_EU.xlsx\") \n",
    "df.head()"
   ]
  },
  {
   "cell_type": "code",
   "execution_count": 69,
   "id": "993ee2ac",
   "metadata": {},
   "outputs": [],
   "source": [
    "import pandas as pd\n",
    "\n",
    "# Load Europe and EU\n",
    "europe = pd.read_excel('Europe_and_EU.xlsx', sheet_name='Europe') \n",
    "eu = pd.read_excel('Europe_and_EU.xlsx', sheet_name='EU')\n",
    "\n",
    "# Remove all whitespace from the 'Country' column\n",
    "europe['Country'] = europe['Country'].str.replace(r'\\s+', '', regex=True)\n",
    "eu['Country'] = eu['Country'].str.replace(r'\\s+', '', regex=True)"
   ]
  },
  {
   "cell_type": "code",
   "execution_count": 66,
   "id": "e0f1d61d",
   "metadata": {},
   "outputs": [
    {
     "data": {
      "text/html": [
       "<div>\n",
       "<style scoped>\n",
       "    .dataframe tbody tr th:only-of-type {\n",
       "        vertical-align: middle;\n",
       "    }\n",
       "\n",
       "    .dataframe tbody tr th {\n",
       "        vertical-align: top;\n",
       "    }\n",
       "\n",
       "    .dataframe thead th {\n",
       "        text-align: right;\n",
       "    }\n",
       "</style>\n",
       "<table border=\"1\" class=\"dataframe\">\n",
       "  <thead>\n",
       "    <tr style=\"text-align: right;\">\n",
       "      <th></th>\n",
       "      <th>Rank</th>\n",
       "      <th>Country</th>\n",
       "      <th>Population</th>\n",
       "      <th>% of population</th>\n",
       "      <th>Average relative annual growth (%)</th>\n",
       "      <th>Average absolute annual growth</th>\n",
       "      <th>Estimated doubling time (Years)</th>\n",
       "      <th>Official figure (where available)</th>\n",
       "      <th>Date of last figure</th>\n",
       "      <th>Regional grouping</th>\n",
       "      <th>Source</th>\n",
       "    </tr>\n",
       "  </thead>\n",
       "  <tbody>\n",
       "    <tr>\n",
       "      <th>0</th>\n",
       "      <td>1.0</td>\n",
       "      <td>Russia</td>\n",
       "      <td>143964709</td>\n",
       "      <td>17.15</td>\n",
       "      <td>0.19</td>\n",
       "      <td>294285</td>\n",
       "      <td>368</td>\n",
       "      <td>146839993</td>\n",
       "      <td>2017-01-01 00:00:00</td>\n",
       "      <td>EAEU</td>\n",
       "      <td>[1]</td>\n",
       "    </tr>\n",
       "    <tr>\n",
       "      <th>1</th>\n",
       "      <td>2.0</td>\n",
       "      <td>Germany</td>\n",
       "      <td>82521653</td>\n",
       "      <td>9.80</td>\n",
       "      <td>1.20</td>\n",
       "      <td>600000</td>\n",
       "      <td>90</td>\n",
       "      <td>82800000</td>\n",
       "      <td>2016-12-31 00:00:00</td>\n",
       "      <td>EU</td>\n",
       "      <td>Official estimate</td>\n",
       "    </tr>\n",
       "    <tr>\n",
       "      <th>2</th>\n",
       "      <td>3.0</td>\n",
       "      <td>Turkey</td>\n",
       "      <td>80810000</td>\n",
       "      <td>9.60</td>\n",
       "      <td>1.34</td>\n",
       "      <td>1035000</td>\n",
       "      <td>52</td>\n",
       "      <td>77695904</td>\n",
       "      <td>2016-12-31 00:00:00</td>\n",
       "      <td>NaN</td>\n",
       "      <td>[2]</td>\n",
       "    </tr>\n",
       "    <tr>\n",
       "      <th>3</th>\n",
       "      <td>4.0</td>\n",
       "      <td>France</td>\n",
       "      <td>65233271</td>\n",
       "      <td>7.76</td>\n",
       "      <td>0.39</td>\n",
       "      <td>261022</td>\n",
       "      <td>177</td>\n",
       "      <td>66991000</td>\n",
       "      <td>2017-03-01 00:00:00</td>\n",
       "      <td>EU</td>\n",
       "      <td>[3]</td>\n",
       "    </tr>\n",
       "    <tr>\n",
       "      <th>4</th>\n",
       "      <td>5.0</td>\n",
       "      <td>UnitedKingdom</td>\n",
       "      <td>65110276</td>\n",
       "      <td>7.75</td>\n",
       "      <td>0.75</td>\n",
       "      <td>484000</td>\n",
       "      <td>92</td>\n",
       "      <td>66573504</td>\n",
       "      <td>2016-12-30 00:00:00</td>\n",
       "      <td>EU</td>\n",
       "      <td>Official estimate</td>\n",
       "    </tr>\n",
       "  </tbody>\n",
       "</table>\n",
       "</div>"
      ],
      "text/plain": [
       "   Rank        Country  Population  % of population  \\\n",
       "0   1.0         Russia   143964709            17.15   \n",
       "1   2.0        Germany    82521653             9.80   \n",
       "2   3.0         Turkey    80810000             9.60   \n",
       "3   4.0         France    65233271             7.76   \n",
       "4   5.0  UnitedKingdom    65110276             7.75   \n",
       "\n",
       "   Average relative annual growth (%)  Average absolute annual growth  \\\n",
       "0                                0.19                          294285   \n",
       "1                                1.20                          600000   \n",
       "2                                1.34                         1035000   \n",
       "3                                0.39                          261022   \n",
       "4                                0.75                          484000   \n",
       "\n",
       "  Estimated doubling time (Years)  Official figure (where available)  \\\n",
       "0                             368                          146839993   \n",
       "1                              90                           82800000   \n",
       "2                              52                           77695904   \n",
       "3                             177                           66991000   \n",
       "4                              92                           66573504   \n",
       "\n",
       "   Date of last figure Regional grouping             Source  \n",
       "0  2017-01-01 00:00:00             EAEU                 [1]  \n",
       "1  2016-12-31 00:00:00               EU   Official estimate  \n",
       "2  2016-12-31 00:00:00               NaN                [2]  \n",
       "3  2017-03-01 00:00:00               EU                 [3]  \n",
       "4  2016-12-30 00:00:00               EU   Official estimate  "
      ]
     },
     "execution_count": 66,
     "metadata": {},
     "output_type": "execute_result"
    }
   ],
   "source": [
    "europe.head()"
   ]
  },
  {
   "cell_type": "code",
   "execution_count": 67,
   "id": "ac0a6242",
   "metadata": {},
   "outputs": [
    {
     "data": {
      "text/html": [
       "<div>\n",
       "<style scoped>\n",
       "    .dataframe tbody tr th:only-of-type {\n",
       "        vertical-align: middle;\n",
       "    }\n",
       "\n",
       "    .dataframe tbody tr th {\n",
       "        vertical-align: top;\n",
       "    }\n",
       "\n",
       "    .dataframe thead th {\n",
       "        text-align: right;\n",
       "    }\n",
       "</style>\n",
       "<table border=\"1\" class=\"dataframe\">\n",
       "  <thead>\n",
       "    <tr style=\"text-align: right;\">\n",
       "      <th></th>\n",
       "      <th>Rank</th>\n",
       "      <th>Country</th>\n",
       "      <th>2017 population</th>\n",
       "      <th>% of pop.</th>\n",
       "      <th>Average relative annual growth</th>\n",
       "      <th>Average absolute annual growth</th>\n",
       "      <th>Official figure</th>\n",
       "      <th>Date of last figure</th>\n",
       "      <th>Source</th>\n",
       "    </tr>\n",
       "  </thead>\n",
       "  <tbody>\n",
       "    <tr>\n",
       "      <th>0</th>\n",
       "      <td>1</td>\n",
       "      <td>Germany</td>\n",
       "      <td>82800000</td>\n",
       "      <td>16.18</td>\n",
       "      <td>0.76</td>\n",
       "      <td>628876</td>\n",
       "      <td>82576900</td>\n",
       "      <td>2017-03-31</td>\n",
       "      <td>Official estimate</td>\n",
       "    </tr>\n",
       "    <tr>\n",
       "      <th>1</th>\n",
       "      <td>2</td>\n",
       "      <td>France</td>\n",
       "      <td>67210459</td>\n",
       "      <td>13.10</td>\n",
       "      <td>0.40</td>\n",
       "      <td>265557</td>\n",
       "      <td>67174000</td>\n",
       "      <td>2018-01-01</td>\n",
       "      <td>Monthly official estimate</td>\n",
       "    </tr>\n",
       "    <tr>\n",
       "      <th>2</th>\n",
       "      <td>3</td>\n",
       "      <td>UnitedKingdom</td>\n",
       "      <td>65808573</td>\n",
       "      <td>12.86</td>\n",
       "      <td>0.65</td>\n",
       "      <td>428793</td>\n",
       "      <td>65648100</td>\n",
       "      <td>2017-06-30</td>\n",
       "      <td>Official estimate</td>\n",
       "    </tr>\n",
       "    <tr>\n",
       "      <th>3</th>\n",
       "      <td>4</td>\n",
       "      <td>Italy</td>\n",
       "      <td>60589445</td>\n",
       "      <td>11.84</td>\n",
       "      <td>-0.13</td>\n",
       "      <td>-76001</td>\n",
       "      <td>60494000</td>\n",
       "      <td>2018-01-01</td>\n",
       "      <td>Monthly official estimate</td>\n",
       "    </tr>\n",
       "    <tr>\n",
       "      <th>4</th>\n",
       "      <td>5</td>\n",
       "      <td>Spain</td>\n",
       "      <td>46528966</td>\n",
       "      <td>9.09</td>\n",
       "      <td>0.19</td>\n",
       "      <td>89037</td>\n",
       "      <td>46549045</td>\n",
       "      <td>2017-07-01</td>\n",
       "      <td>Official estimate</td>\n",
       "    </tr>\n",
       "  </tbody>\n",
       "</table>\n",
       "</div>"
      ],
      "text/plain": [
       "   Rank        Country  2017 population  % of pop.  \\\n",
       "0     1        Germany         82800000      16.18   \n",
       "1     2         France         67210459      13.10   \n",
       "2     3  UnitedKingdom         65808573      12.86   \n",
       "3     4          Italy         60589445      11.84   \n",
       "4     5          Spain         46528966       9.09   \n",
       "\n",
       "   Average relative annual growth  Average absolute annual growth  \\\n",
       "0                            0.76                          628876   \n",
       "1                            0.40                          265557   \n",
       "2                            0.65                          428793   \n",
       "3                           -0.13                          -76001   \n",
       "4                            0.19                           89037   \n",
       "\n",
       "   Official figure Date of last figure                     Source  \n",
       "0         82576900          2017-03-31          Official estimate  \n",
       "1         67174000          2018-01-01  Monthly official estimate  \n",
       "2         65648100          2017-06-30          Official estimate  \n",
       "3         60494000          2018-01-01  Monthly official estimate  \n",
       "4         46549045          2017-07-01          Official estimate  "
      ]
     },
     "execution_count": 67,
     "metadata": {},
     "output_type": "execute_result"
    }
   ],
   "source": [
    "eu.head()"
   ]
  },
  {
   "cell_type": "code",
   "execution_count": 75,
   "id": "d98591a9",
   "metadata": {},
   "outputs": [
    {
     "name": "stdout",
     "output_type": "stream",
     "text": [
      "is EU a subset of Europe? True\n"
     ]
    }
   ],
   "source": [
    "is_subset= eu_set.issubset(europe_set)\n",
    "print(\"is EU a subset of Europe?\",is_subset)"
   ]
  },
  {
   "cell_type": "code",
   "execution_count": 74,
   "id": "b5c064f2",
   "metadata": {},
   "outputs": [
    {
     "name": "stdout",
     "output_type": "stream",
     "text": [
      "['Albania', 'Andorra', 'Armenia', 'Azerbaijan', 'Belarus', 'BosniaandHerzegovina', 'FaroeIslands(Denmark)', 'Georgia', 'Gibraltar(UK)', 'Guernsey(UK)', 'Iceland', 'IsleofMan(UK)', 'Jersey(UK)', 'Kosovo', 'Liechtenstein', 'Macedonia', 'Moldova', 'Monaco', 'Montenegro', 'Norway', 'Russia', 'SanMarino', 'Serbia', 'Svalbard(Norway)', 'Switzerland', 'Turkey', 'Ukraine', 'VaticanCity', 'ÅlandIslands(Finland)']\n"
     ]
    }
   ],
   "source": [
    "# Convert to sets\n",
    "europe_set = set(europe['Country'])\n",
    "eu_set = set(eu['Country'])\n",
    "\n",
    "# Countries in Europe but not in the EU\n",
    "non_eu_countries = europe_set - eu_set\n",
    "print(sorted(non_eu_countries))"
   ]
  }
 ],
 "metadata": {
  "kernelspec": {
   "display_name": "Python 3",
   "language": "python",
   "name": "python3"
  },
  "language_info": {
   "codemirror_mode": {
    "name": "ipython",
    "version": 3
   },
   "file_extension": ".py",
   "mimetype": "text/x-python",
   "name": "python",
   "nbconvert_exporter": "python",
   "pygments_lexer": "ipython3",
   "version": "3.13.5"
  }
 },
 "nbformat": 4,
 "nbformat_minor": 5
}
